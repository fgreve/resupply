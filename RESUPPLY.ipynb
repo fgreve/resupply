{
 "cells": [
  {
   "cell_type": "code",
   "execution_count": 1,
   "id": "58308df7-d5b2-41fb-ba7a-495f46213af9",
   "metadata": {},
   "outputs": [],
   "source": [
    "# RESUPPLY\n",
    "\n",
    "# sales\n",
    "# https://caenergy-my.sharepoint.com/:x:/g/personal/jesten_ruiz_energy_ca_gov/ETcZua8EH95EkQEOA0a3OZcBFqAQlmGkfitkEA3KnFapWg?email=Fernando.Greve%40Energy.ca.gov&wdOrigin=TEAMS-MAGLEV.p2p_ns.rwc&wdExp=TEAMS-TREATMENT&wdhostclicktime=1736878801692&web=1&clickparams=eyJBcHBOYW1lIjoiVGVhbXMtRGVza3RvcCIsIkFwcFZlcnNpb24iOiI0OS8yNDEyMDEwMDIxMyIsIkhhc0ZlZGVyYXRlZFVzZXIiOmZhbHNlfQ%3D%3D\n",
    "# https://caenergy-my.sharepoint.com/:x:/g/personal/jesten_ruiz_energy_ca_gov/EZ5jsGmt02BDqpl4Vsupu4gBiKP1g9FcLwppVhztSZ98qg?email=Fernando.Greve%40Energy.ca.gov&wdOrigin=TEAMS-MAGLEV.p2p_ns.rwc&wdExp=TEAMS-TREATMENT&wdhostclicktime=1736878863838&web=1&clickparams=eyJBcHBOYW1lIjoiVGVhbXMtRGVza3RvcCIsIkFwcFZlcnNpb24iOiI0OS8yNDEyMDEwMDIxMyIsIkhhc0ZlZGVyYXRlZFVzZXIiOmZhbHNlfQ%3D%3D\n"
   ]
  },
  {
   "cell_type": "code",
   "execution_count": 2,
   "id": "cf197de2-aba8-4170-84d0-d390e5d0ce26",
   "metadata": {},
   "outputs": [],
   "source": [
    "import pyodbc\n",
    "import pandas as pd\n",
    "import numpy as np\n",
    "import os\n",
    "import matplotlib.pyplot as plt\n",
    "\n",
    "import warnings\n",
    "warnings.filterwarnings('ignore')"
   ]
  },
  {
   "cell_type": "code",
   "execution_count": 3,
   "id": "4fbd9f45-fbbf-4510-80d7-4b6abd076b22",
   "metadata": {},
   "outputs": [],
   "source": [
    "wd = os.getcwd()\n",
    "rawdata_path = os.path.join(wd, \"rawdata\")\n",
    "data_path = os.path.join(wd, \"data\")"
   ]
  },
  {
   "cell_type": "code",
   "execution_count": 4,
   "id": "2b5c3bb8-d54a-4b42-870c-7a72e85df261",
   "metadata": {},
   "outputs": [],
   "source": [
    "def df_to_rawdata(df, filename):\n",
    "    \"\"\"Save df into rawdata folder.\"\"\"    \n",
    "    # df['Date'] = df.index\n",
    "    # df = df.set_index(\"Date\")    \n",
    "    df.to_csv(os.path.join(rawdata_path, filename + \".csv\"), index=False)"
   ]
  },
  {
   "cell_type": "code",
   "execution_count": 5,
   "id": "683eacd6-2732-4a38-9798-fa3a347bde09",
   "metadata": {},
   "outputs": [],
   "source": [
    "def rawdata_to_df(filename):\n",
    "    # df['Date'] = df.index\n",
    "    # df = df.set_index(\"Date\")\n",
    "    df = pd.read_csv(os.path.join(rawdata_path, filename + \".csv\"))    \n",
    "    return df"
   ]
  },
  {
   "cell_type": "code",
   "execution_count": 6,
   "id": "99532fa8-8e71-477a-85ab-a424883396f4",
   "metadata": {},
   "outputs": [],
   "source": [
    "def df_to_data(df, filename):\n",
    "    \"\"\"Save df into data folder.\"\"\"    \n",
    "    # df['Date'] = df.index\n",
    "    # df = df.set_index(\"Date\")    \n",
    "    df.to_csv(os.path.join(data_path, filename + \".csv\"), index=False)"
   ]
  },
  {
   "cell_type": "code",
   "execution_count": 7,
   "id": "43339499-cce5-4407-bc56-1e6bbae91e99",
   "metadata": {},
   "outputs": [],
   "source": [
    "# grab the datasources we have access to\n",
    "# pyodbc.dataSources()"
   ]
  },
  {
   "cell_type": "code",
   "execution_count": 8,
   "id": "af2e4a91-ccb7-4b46-86d5-ae8ed9ebdca7",
   "metadata": {},
   "outputs": [],
   "source": [
    "# define components of our connection string\n",
    "driver = '{Microsoft Access Driver (*.mdb, *.accdb)}'\n",
    "# filepath = r'C:\\Users\\Alex\\OneDrive\\Career - Work Items\\Petco\\Financial_Analyst\\Petco_Financial_Data.accdb'\n",
    "filepath = r'P:\\ADMIN\\PIIRA\\NewPIIRA2004.mdb'"
   ]
  },
  {
   "cell_type": "code",
   "execution_count": 9,
   "id": "f4e3e269-50c2-4520-931c-d4dd6eb4f9ba",
   "metadata": {},
   "outputs": [],
   "source": [
    "# create a connection to the database\n",
    "conn = pyodbc.connect(driver = driver, dbq = filepath, autocommit = True)\n",
    "cursor = conn.cursor()"
   ]
  },
  {
   "cell_type": "code",
   "execution_count": 10,
   "id": "9da53c14-72b5-48ab-b4f3-63abe3e0aff7",
   "metadata": {},
   "outputs": [],
   "source": [
    "# grab all the tables\n",
    "tables_list = list(cursor.tables())\n",
    "# tables_list"
   ]
  },
  {
   "cell_type": "code",
   "execution_count": 11,
   "id": "d5f3aa9b-3da0-41b4-b14a-3c55a41a65eb",
   "metadata": {
    "scrolled": true
   },
   "outputs": [
    {
     "data": {
      "text/plain": [
       "['tbl_PIIRAE800', 'tbl_PIIRAE800_bckup111130']"
      ]
     },
     "execution_count": 11,
     "metadata": {},
     "output_type": "execute_result"
    }
   ],
   "source": [
    "tablas = [list(row)[2] for row in tables_list if list(row)[-2]=='TABLE']\n",
    "[row for row in tablas if row.find('800')>-1]"
   ]
  },
  {
   "cell_type": "code",
   "execution_count": 12,
   "id": "565aec51-2d74-4c8c-8e9b-1dbaf7134907",
   "metadata": {},
   "outputs": [],
   "source": [
    "def table_to_rawdata(table_name):\n",
    "    \"\"\"Save table into rawdata folder.\"\"\"    \n",
    "    \n",
    "    # define query\n",
    "    query = \"SELECT * FROM {}\".format(table_name)\n",
    "    \n",
    "    # execute the query\n",
    "    cursor.execute(query)\n",
    "    \n",
    "    df = pd.read_sql(query, conn)\n",
    "    df_to_rawdata(df, table_name)"
   ]
  },
  {
   "cell_type": "code",
   "execution_count": 13,
   "id": "862c83e4-d7ae-4d82-954a-438c1ec430c9",
   "metadata": {},
   "outputs": [],
   "source": [
    "table_name = 'tbl_PIIRAWM08'\n",
    "table_to_rawdata(table_name)"
   ]
  },
  {
   "cell_type": "code",
   "execution_count": 14,
   "id": "614e3226-9e94-4962-97b9-7d03e24c2003",
   "metadata": {},
   "outputs": [],
   "source": [
    "table_name = 'tbl_PIIRAE810_NEW'\n",
    "table_to_rawdata(table_name)"
   ]
  },
  {
   "cell_type": "code",
   "execution_count": 15,
   "id": "981dba5d-84d8-47e3-99a7-217c73837f73",
   "metadata": {},
   "outputs": [],
   "source": [
    "table_name = 'tbl_PIIRA_CECM810'\n",
    "table_to_rawdata(table_name)"
   ]
  },
  {
   "cell_type": "code",
   "execution_count": 16,
   "id": "bf3b4609-bbb5-4096-a627-2c9138f9ac95",
   "metadata": {},
   "outputs": [],
   "source": [
    "table_name = 'tbl_PIIRA782B'\n",
    "table_to_rawdata(table_name)"
   ]
  },
  {
   "cell_type": "code",
   "execution_count": 17,
   "id": "d4fc8f80-2477-4163-93e1-ce6f71ddf266",
   "metadata": {},
   "outputs": [],
   "source": [
    "table_name = 'tbl_PIIRAE800'\n",
    "table_to_rawdata(table_name)"
   ]
  },
  {
   "cell_type": "markdown",
   "id": "28e6fbac-0b47-460b-b483-9ab380baa1ea",
   "metadata": {},
   "source": [
    "# 800"
   ]
  },
  {
   "cell_type": "code",
   "execution_count": 18,
   "id": "081531de-34fd-4920-8cff-86ba067e6dd4",
   "metadata": {},
   "outputs": [],
   "source": [
    "filename = \"tbl_PIIRAE800\"\n",
    "df = rawdata_to_df(filename)"
   ]
  },
  {
   "cell_type": "markdown",
   "id": "2db7acb5-49b4-4e08-bd96-2a47049a9f83",
   "metadata": {},
   "source": [
    "# M1322"
   ]
  },
  {
   "cell_type": "code",
   "execution_count": 19,
   "id": "96c8197d-415e-4a5d-95ca-fc5a7e9a1da7",
   "metadata": {},
   "outputs": [],
   "source": [
    "from python_calamine import CalamineWorkbook # !pip install python-calamine"
   ]
  },
  {
   "cell_type": "code",
   "execution_count": 20,
   "id": "9c91347f-7242-43f5-aa60-a4e22d0c126e",
   "metadata": {},
   "outputs": [],
   "source": [
    "workbook = CalamineWorkbook.from_path(\"M1322 Data (May 2024 - Oct 2024).xlsx\")\n",
    "vars = workbook.sheet_names"
   ]
  },
  {
   "cell_type": "code",
   "execution_count": 21,
   "id": "3aac92ed-f7a6-4aba-a56a-95a0fe0a3d47",
   "metadata": {},
   "outputs": [],
   "source": [
    "def get_rid():\n",
    "    var = 'Refinery ID'\n",
    "    form_list = workbook.get_sheet_by_name(var).to_python()\n",
    "    df = pd.DataFrame(data=form_list[1:], columns=form_list[0])\n",
    "    df['RID'] = df['RID'].astype(int)\n",
    "    df['RID'] = df['RID'].astype(str)\n",
    "    return df\n",
    "\n",
    "rid_df = get_rid()"
   ]
  },
  {
   "cell_type": "code",
   "execution_count": 22,
   "id": "f9b12317-6cda-4ecc-b813-0624f37a8d61",
   "metadata": {},
   "outputs": [],
   "source": [
    "def get_sales2024():\n",
    "\n",
    "    workbook = CalamineWorkbook.from_path(\"M1322 Data (May 2024 - Oct 2024).xlsx\")\n",
    "    vars = workbook.sheet_names\n",
    "    \n",
    "    var = 'Gasoline Sales'\n",
    "    form_list = workbook.get_sheet_by_name(var).to_python()\n",
    "    df = pd.DataFrame(data=form_list[1:], columns=form_list[0])\n",
    "    df = df[['YEAR', 'MONTH', 'RID', 'WHOLESALE_CHANNEL', 'SALES_VOLUME']]\n",
    "\n",
    "    # Dealer Tank Wagon (DTW) Sales\n",
    "    dtw_name_list = ['Dealer Tank Wagon (DTW) Sales', 'Dealer Tankwagon Sales']\n",
    "    df['WHOLESALE_CHANNEL'] = df['WHOLESALE_CHANNEL'].apply(lambda x: 'DTW Sales' if x in dtw_name_list else x)\n",
    "    \n",
    "    df['YEAR'] = df['YEAR'].astype(int)\n",
    "    df['MONTH'] = df['MONTH'].astype(int)\n",
    "\n",
    "    df['RID'] = df['RID'].astype(int)\n",
    "    df['RID'] = df['RID'].astype(str)\n",
    "\n",
    "    df['SALES_VOLUME'] = pd.to_numeric(df['SALES_VOLUME'], errors='coerce')\n",
    "\n",
    "    return df"
   ]
  },
  {
   "cell_type": "code",
   "execution_count": 23,
   "id": "7873d415-3675-425e-a882-01b05e7a0373",
   "metadata": {},
   "outputs": [],
   "source": [
    "sales2024_df = get_sales2024()"
   ]
  },
  {
   "cell_type": "code",
   "execution_count": 24,
   "id": "bd6dadb0-3089-46b4-a352-e4d724e57b82",
   "metadata": {},
   "outputs": [],
   "source": [
    "def get_sales2013():\n",
    "\n",
    "    workbook = CalamineWorkbook.from_path(\"M1322 Data (2013- April 2024).xlsx\")\n",
    "    vars = workbook.sheet_names\n",
    "    \n",
    "    var = 'Gasoline Sales'\n",
    "    form_list = workbook.get_sheet_by_name(var).to_python()\n",
    "    df = pd.DataFrame(data=form_list[1:], columns=form_list[0])\n",
    "    \n",
    "    # df = df[['YEAR', 'MONTH', 'RID', 'WHOLESALE_CHANNEL', 'SALES_VOLUME']]\n",
    "    df = df[['YEAR', 'MONTH', 'RID', 'WHOLESALE_GASOLINE', 'VOLUME']]\n",
    "\n",
    "    df.rename(columns={'WHOLESALE_GASOLINE': 'WHOLESALE_CHANNEL', 'VOLUME': 'SALES_VOLUME'}, inplace=True)\n",
    "\n",
    "    df['WHOLESALE_CHANNEL'] = df['WHOLESALE_CHANNEL'].map(lambda x: x.title())\n",
    "\n",
    "    # Dealer Tankwagon Sales\n",
    "    dtw_name_list = ['Dealer Tank Wagon (DTW) Sales', 'Dealer Tankwagon Sales']\n",
    "    df['WHOLESALE_CHANNEL'] = df['WHOLESALE_CHANNEL'].apply(lambda x: 'DTW Sales' if x in dtw_name_list else x)\n",
    "    \n",
    "    df['YEAR'] = df['YEAR'].astype(int)\n",
    "    df['MONTH'] = df['MONTH'].astype(int)\n",
    "\n",
    "    df['RID'] = df['RID'].astype(int)\n",
    "    df['RID'] = df['RID'].astype(str)\n",
    "\n",
    "    df['SALES_VOLUME'] = pd.to_numeric(df['SALES_VOLUME'], errors='coerce')\n",
    "\n",
    "    return df"
   ]
  },
  {
   "cell_type": "code",
   "execution_count": 25,
   "id": "6e5c6634-929c-4816-8202-63ea60e4813a",
   "metadata": {},
   "outputs": [],
   "source": [
    "sales2013_df = get_sales2013()"
   ]
  },
  {
   "cell_type": "code",
   "execution_count": 26,
   "id": "9007f610-a641-43d0-9164-0781242e09f0",
   "metadata": {},
   "outputs": [],
   "source": [
    "sales2024_df = get_sales2024()\n",
    "sales2013_df = get_sales2013()\n",
    "sales_df = pd.concat([sales2013_df, sales2024_df], ignore_index=True)"
   ]
  },
  {
   "cell_type": "code",
   "execution_count": 27,
   "id": "c0061ee4-a691-44a2-92be-36834ea18ded",
   "metadata": {},
   "outputs": [
    {
     "data": {
      "text/plain": [
       "array(['Unbranded Rack Sales', 'Branded Rack Sales', 'Bulk Sales',\n",
       "       'Spot Pipeline Sales', 'DTW Sales', 'Internally Priced Sales',\n",
       "       'Sales to Other End-Users', 'Total Gasoline Sales',\n",
       "       'Company Owned & Operated (COO) Sales'], dtype=object)"
      ]
     },
     "execution_count": 27,
     "metadata": {},
     "output_type": "execute_result"
    }
   ],
   "source": [
    "sales_df['WHOLESALE_CHANNEL'].unique()"
   ]
  },
  {
   "cell_type": "code",
   "execution_count": 28,
   "id": "147ba633-b5b4-42f6-a912-f419ec26ecee",
   "metadata": {},
   "outputs": [],
   "source": [
    "df = sales_df[['YEAR', 'MONTH', 'WHOLESALE_CHANNEL', 'SALES_VOLUME']].groupby(['YEAR', 'MONTH', 'WHOLESALE_CHANNEL']).sum()\n",
    "# df['SALES_VOLUME'] = df['SALES_VOLUME'] / 1_000\n",
    "df = df.unstack(level='WHOLESALE_CHANNEL')\n",
    "\n",
    "df.columns.set_names(['Level1', 'WHOLESALE_CHANNEL'], inplace=True)\n",
    "df.columns = df.columns.droplevel(0)\n",
    "df = df.reset_index()\n",
    "\n",
    "df.to_csv('channel.csv', index=False)"
   ]
  },
  {
   "cell_type": "markdown",
   "id": "26ad9b47-3490-43dc-ab07-13bb3ad99f95",
   "metadata": {},
   "source": [
    "# By Refinery"
   ]
  },
  {
   "cell_type": "code",
   "execution_count": 29,
   "id": "b72e627b-b472-4fb9-960c-eb668fe69030",
   "metadata": {},
   "outputs": [],
   "source": [
    "df = sales_df[['YEAR', 'MONTH', 'RID', 'SALES_VOLUME']].groupby(['YEAR', 'MONTH', 'RID']).sum()\n",
    "# df['SALES_VOLUME'] = df['SALES_VOLUME'] / 1_000\n",
    "df = df.unstack(level='RID')\n",
    "\n",
    "df.columns.set_names(['Level1', 'RID'], inplace=True)\n",
    "df.columns = df.columns.droplevel(0)\n",
    "df = df.reset_index()\n",
    "\n",
    "df.to_csv('refinery.csv', index=False)"
   ]
  },
  {
   "cell_type": "markdown",
   "id": "9e58f397-2390-442a-8324-3a3702ef413a",
   "metadata": {},
   "source": [
    "# Refineries"
   ]
  },
  {
   "cell_type": "code",
   "execution_count": 30,
   "id": "aae8d669-64e5-43b8-88ba-250382eaae32",
   "metadata": {},
   "outputs": [],
   "source": [
    "rid_dict = {}\n",
    "for index, row in rid_df.iterrows():\n",
    "    rid_dict[row['RID']] = {\n",
    "        'ref': row['REFINERY'],\n",
    "        'op': row['OPERATOR']\n",
    "    }"
   ]
  },
  {
   "cell_type": "code",
   "execution_count": 31,
   "id": "bcb3f96f-b69c-4002-90a0-37ad760804bc",
   "metadata": {},
   "outputs": [],
   "source": [
    "for key, value in rid_dict.items():\n",
    "    RID = key\n",
    "\n",
    "    df = sales_df[sales_df['RID']==RID]\n",
    "    \n",
    "    df = df[['YEAR', 'MONTH', 'WHOLESALE_CHANNEL', 'SALES_VOLUME']]\n",
    "    \n",
    "    df.set_index(['YEAR', 'MONTH', 'WHOLESALE_CHANNEL'], inplace=True)\n",
    "    df = df.unstack(level='WHOLESALE_CHANNEL')\n",
    "    \n",
    "    df.columns.set_names(['Level1', 'WHOLESALE_CHANNEL'], inplace=True)\n",
    "    df.columns = df.columns.droplevel(0)\n",
    "    df = df.reset_index()\n",
    "    \n",
    "    df.to_csv(RID + '.csv', index=False)\n"
   ]
  },
  {
   "cell_type": "code",
   "execution_count": null,
   "id": "a80e77f2-d9bf-437e-91d2-212df2daa883",
   "metadata": {},
   "outputs": [],
   "source": []
  },
  {
   "cell_type": "markdown",
   "id": "7350ded0-73b6-4632-8f5b-5890e0b1cab3",
   "metadata": {},
   "source": [
    "# 782"
   ]
  },
  {
   "cell_type": "code",
   "execution_count": 32,
   "id": "7024c07b-aa12-4be8-9f99-6f6c3e7e4466",
   "metadata": {},
   "outputs": [],
   "source": [
    "filename = \"tbl_PIIRA782B\"\n",
    "df = rawdata_to_df(filename)"
   ]
  },
  {
   "cell_type": "code",
   "execution_count": 33,
   "id": "45de86f7-9c9b-45c2-b16d-94179b891161",
   "metadata": {},
   "outputs": [
    {
     "data": {
      "text/plain": [
       "[2006, 2007, 2008]"
      ]
     },
     "execution_count": 33,
     "metadata": {},
     "output_type": "execute_result"
    }
   ],
   "source": [
    "sorted(df['Year'].unique())"
   ]
  },
  {
   "cell_type": "code",
   "execution_count": null,
   "id": "f12a2f97-82bd-4421-b719-64d25537f157",
   "metadata": {},
   "outputs": [],
   "source": []
  },
  {
   "cell_type": "markdown",
   "id": "d5cfb279-b974-4195-9626-128268b0cd70",
   "metadata": {},
   "source": [
    "# 08"
   ]
  },
  {
   "cell_type": "code",
   "execution_count": 34,
   "id": "35c0cc4a-7231-4a0c-95ab-0619272f35a9",
   "metadata": {},
   "outputs": [],
   "source": [
    "filename = \"tbl_PIIRAWM08\"\n",
    "df = rawdata_to_df(filename)"
   ]
  },
  {
   "cell_type": "code",
   "execution_count": null,
   "id": "90998ee9-b1ed-4adf-9efe-383c72cc0cc0",
   "metadata": {},
   "outputs": [],
   "source": []
  },
  {
   "cell_type": "markdown",
   "id": "d3c5cf1f-d569-4896-a5f9-f65a5cc3bfea",
   "metadata": {},
   "source": [
    "# 810"
   ]
  },
  {
   "cell_type": "code",
   "execution_count": 35,
   "id": "dc9828c9-fb84-4e60-bc94-ba3596f7c618",
   "metadata": {},
   "outputs": [],
   "source": [
    "filename = \"tbl_PIIRAE810_NEW\"\n",
    "df = rawdata_to_df(filename)"
   ]
  },
  {
   "cell_type": "code",
   "execution_count": 36,
   "id": "003669b0-4a30-42c3-a05a-8c732244bbb5",
   "metadata": {},
   "outputs": [],
   "source": [
    "filename = \"tbl_PIIRA_CECM810\"\n",
    "df = rawdata_to_df(filename)"
   ]
  },
  {
   "cell_type": "code",
   "execution_count": 37,
   "id": "8f564dca-8f84-4a94-a51d-a6bde12d0d6b",
   "metadata": {},
   "outputs": [
    {
     "ename": "FileNotFoundError",
     "evalue": "[Errno 2] No such file or directory: 'Product_Code.csv'",
     "output_type": "error",
     "traceback": [
      "\u001b[1;31m---------------------------------------------------------------------------\u001b[0m",
      "\u001b[1;31mFileNotFoundError\u001b[0m                         Traceback (most recent call last)",
      "Cell \u001b[1;32mIn[37], line 7\u001b[0m\n\u001b[0;32m      2\u001b[0m df \u001b[38;5;241m=\u001b[39m rawdata_to_df(filename)\n\u001b[0;32m      3\u001b[0m \u001b[38;5;66;03m# df['CID'] = df['CID'].astype(int)\u001b[39;00m\n\u001b[0;32m      4\u001b[0m \u001b[38;5;66;03m# df['CID'] = df['CID'].astype(str)\u001b[39;00m\n\u001b[0;32m      5\u001b[0m \n\u001b[0;32m      6\u001b[0m \u001b[38;5;66;03m# Product_Code: Description (Product_Code.csv)\u001b[39;00m\n\u001b[1;32m----> 7\u001b[0m df_product_code \u001b[38;5;241m=\u001b[39m pd\u001b[38;5;241m.\u001b[39mread_csv(\u001b[38;5;124m\"\u001b[39m\u001b[38;5;124mProduct_Code.csv\u001b[39m\u001b[38;5;124m\"\u001b[39m)\n\u001b[0;32m      8\u001b[0m df_product_code \u001b[38;5;241m=\u001b[39m df_product_code[:\u001b[38;5;241m294\u001b[39m]\n\u001b[0;32m      9\u001b[0m df_product_code[\u001b[38;5;124m'\u001b[39m\u001b[38;5;124mProduct_Code\u001b[39m\u001b[38;5;124m'\u001b[39m] \u001b[38;5;241m=\u001b[39m df_product_code[\u001b[38;5;124m'\u001b[39m\u001b[38;5;124mProduct_Code\u001b[39m\u001b[38;5;124m'\u001b[39m]\u001b[38;5;241m.\u001b[39mastype(\u001b[38;5;28mint\u001b[39m) \n",
      "File \u001b[1;32m~\\AppData\\Local\\anaconda3\\Lib\\site-packages\\pandas\\io\\parsers\\readers.py:1026\u001b[0m, in \u001b[0;36mread_csv\u001b[1;34m(filepath_or_buffer, sep, delimiter, header, names, index_col, usecols, dtype, engine, converters, true_values, false_values, skipinitialspace, skiprows, skipfooter, nrows, na_values, keep_default_na, na_filter, verbose, skip_blank_lines, parse_dates, infer_datetime_format, keep_date_col, date_parser, date_format, dayfirst, cache_dates, iterator, chunksize, compression, thousands, decimal, lineterminator, quotechar, quoting, doublequote, escapechar, comment, encoding, encoding_errors, dialect, on_bad_lines, delim_whitespace, low_memory, memory_map, float_precision, storage_options, dtype_backend)\u001b[0m\n\u001b[0;32m   1013\u001b[0m kwds_defaults \u001b[38;5;241m=\u001b[39m _refine_defaults_read(\n\u001b[0;32m   1014\u001b[0m     dialect,\n\u001b[0;32m   1015\u001b[0m     delimiter,\n\u001b[1;32m   (...)\u001b[0m\n\u001b[0;32m   1022\u001b[0m     dtype_backend\u001b[38;5;241m=\u001b[39mdtype_backend,\n\u001b[0;32m   1023\u001b[0m )\n\u001b[0;32m   1024\u001b[0m kwds\u001b[38;5;241m.\u001b[39mupdate(kwds_defaults)\n\u001b[1;32m-> 1026\u001b[0m \u001b[38;5;28;01mreturn\u001b[39;00m _read(filepath_or_buffer, kwds)\n",
      "File \u001b[1;32m~\\AppData\\Local\\anaconda3\\Lib\\site-packages\\pandas\\io\\parsers\\readers.py:620\u001b[0m, in \u001b[0;36m_read\u001b[1;34m(filepath_or_buffer, kwds)\u001b[0m\n\u001b[0;32m    617\u001b[0m _validate_names(kwds\u001b[38;5;241m.\u001b[39mget(\u001b[38;5;124m\"\u001b[39m\u001b[38;5;124mnames\u001b[39m\u001b[38;5;124m\"\u001b[39m, \u001b[38;5;28;01mNone\u001b[39;00m))\n\u001b[0;32m    619\u001b[0m \u001b[38;5;66;03m# Create the parser.\u001b[39;00m\n\u001b[1;32m--> 620\u001b[0m parser \u001b[38;5;241m=\u001b[39m TextFileReader(filepath_or_buffer, \u001b[38;5;241m*\u001b[39m\u001b[38;5;241m*\u001b[39mkwds)\n\u001b[0;32m    622\u001b[0m \u001b[38;5;28;01mif\u001b[39;00m chunksize \u001b[38;5;129;01mor\u001b[39;00m iterator:\n\u001b[0;32m    623\u001b[0m     \u001b[38;5;28;01mreturn\u001b[39;00m parser\n",
      "File \u001b[1;32m~\\AppData\\Local\\anaconda3\\Lib\\site-packages\\pandas\\io\\parsers\\readers.py:1620\u001b[0m, in \u001b[0;36mTextFileReader.__init__\u001b[1;34m(self, f, engine, **kwds)\u001b[0m\n\u001b[0;32m   1617\u001b[0m     \u001b[38;5;28mself\u001b[39m\u001b[38;5;241m.\u001b[39moptions[\u001b[38;5;124m\"\u001b[39m\u001b[38;5;124mhas_index_names\u001b[39m\u001b[38;5;124m\"\u001b[39m] \u001b[38;5;241m=\u001b[39m kwds[\u001b[38;5;124m\"\u001b[39m\u001b[38;5;124mhas_index_names\u001b[39m\u001b[38;5;124m\"\u001b[39m]\n\u001b[0;32m   1619\u001b[0m \u001b[38;5;28mself\u001b[39m\u001b[38;5;241m.\u001b[39mhandles: IOHandles \u001b[38;5;241m|\u001b[39m \u001b[38;5;28;01mNone\u001b[39;00m \u001b[38;5;241m=\u001b[39m \u001b[38;5;28;01mNone\u001b[39;00m\n\u001b[1;32m-> 1620\u001b[0m \u001b[38;5;28mself\u001b[39m\u001b[38;5;241m.\u001b[39m_engine \u001b[38;5;241m=\u001b[39m \u001b[38;5;28mself\u001b[39m\u001b[38;5;241m.\u001b[39m_make_engine(f, \u001b[38;5;28mself\u001b[39m\u001b[38;5;241m.\u001b[39mengine)\n",
      "File \u001b[1;32m~\\AppData\\Local\\anaconda3\\Lib\\site-packages\\pandas\\io\\parsers\\readers.py:1880\u001b[0m, in \u001b[0;36mTextFileReader._make_engine\u001b[1;34m(self, f, engine)\u001b[0m\n\u001b[0;32m   1878\u001b[0m     \u001b[38;5;28;01mif\u001b[39;00m \u001b[38;5;124m\"\u001b[39m\u001b[38;5;124mb\u001b[39m\u001b[38;5;124m\"\u001b[39m \u001b[38;5;129;01mnot\u001b[39;00m \u001b[38;5;129;01min\u001b[39;00m mode:\n\u001b[0;32m   1879\u001b[0m         mode \u001b[38;5;241m+\u001b[39m\u001b[38;5;241m=\u001b[39m \u001b[38;5;124m\"\u001b[39m\u001b[38;5;124mb\u001b[39m\u001b[38;5;124m\"\u001b[39m\n\u001b[1;32m-> 1880\u001b[0m \u001b[38;5;28mself\u001b[39m\u001b[38;5;241m.\u001b[39mhandles \u001b[38;5;241m=\u001b[39m get_handle(\n\u001b[0;32m   1881\u001b[0m     f,\n\u001b[0;32m   1882\u001b[0m     mode,\n\u001b[0;32m   1883\u001b[0m     encoding\u001b[38;5;241m=\u001b[39m\u001b[38;5;28mself\u001b[39m\u001b[38;5;241m.\u001b[39moptions\u001b[38;5;241m.\u001b[39mget(\u001b[38;5;124m\"\u001b[39m\u001b[38;5;124mencoding\u001b[39m\u001b[38;5;124m\"\u001b[39m, \u001b[38;5;28;01mNone\u001b[39;00m),\n\u001b[0;32m   1884\u001b[0m     compression\u001b[38;5;241m=\u001b[39m\u001b[38;5;28mself\u001b[39m\u001b[38;5;241m.\u001b[39moptions\u001b[38;5;241m.\u001b[39mget(\u001b[38;5;124m\"\u001b[39m\u001b[38;5;124mcompression\u001b[39m\u001b[38;5;124m\"\u001b[39m, \u001b[38;5;28;01mNone\u001b[39;00m),\n\u001b[0;32m   1885\u001b[0m     memory_map\u001b[38;5;241m=\u001b[39m\u001b[38;5;28mself\u001b[39m\u001b[38;5;241m.\u001b[39moptions\u001b[38;5;241m.\u001b[39mget(\u001b[38;5;124m\"\u001b[39m\u001b[38;5;124mmemory_map\u001b[39m\u001b[38;5;124m\"\u001b[39m, \u001b[38;5;28;01mFalse\u001b[39;00m),\n\u001b[0;32m   1886\u001b[0m     is_text\u001b[38;5;241m=\u001b[39mis_text,\n\u001b[0;32m   1887\u001b[0m     errors\u001b[38;5;241m=\u001b[39m\u001b[38;5;28mself\u001b[39m\u001b[38;5;241m.\u001b[39moptions\u001b[38;5;241m.\u001b[39mget(\u001b[38;5;124m\"\u001b[39m\u001b[38;5;124mencoding_errors\u001b[39m\u001b[38;5;124m\"\u001b[39m, \u001b[38;5;124m\"\u001b[39m\u001b[38;5;124mstrict\u001b[39m\u001b[38;5;124m\"\u001b[39m),\n\u001b[0;32m   1888\u001b[0m     storage_options\u001b[38;5;241m=\u001b[39m\u001b[38;5;28mself\u001b[39m\u001b[38;5;241m.\u001b[39moptions\u001b[38;5;241m.\u001b[39mget(\u001b[38;5;124m\"\u001b[39m\u001b[38;5;124mstorage_options\u001b[39m\u001b[38;5;124m\"\u001b[39m, \u001b[38;5;28;01mNone\u001b[39;00m),\n\u001b[0;32m   1889\u001b[0m )\n\u001b[0;32m   1890\u001b[0m \u001b[38;5;28;01massert\u001b[39;00m \u001b[38;5;28mself\u001b[39m\u001b[38;5;241m.\u001b[39mhandles \u001b[38;5;129;01mis\u001b[39;00m \u001b[38;5;129;01mnot\u001b[39;00m \u001b[38;5;28;01mNone\u001b[39;00m\n\u001b[0;32m   1891\u001b[0m f \u001b[38;5;241m=\u001b[39m \u001b[38;5;28mself\u001b[39m\u001b[38;5;241m.\u001b[39mhandles\u001b[38;5;241m.\u001b[39mhandle\n",
      "File \u001b[1;32m~\\AppData\\Local\\anaconda3\\Lib\\site-packages\\pandas\\io\\common.py:873\u001b[0m, in \u001b[0;36mget_handle\u001b[1;34m(path_or_buf, mode, encoding, compression, memory_map, is_text, errors, storage_options)\u001b[0m\n\u001b[0;32m    868\u001b[0m \u001b[38;5;28;01melif\u001b[39;00m \u001b[38;5;28misinstance\u001b[39m(handle, \u001b[38;5;28mstr\u001b[39m):\n\u001b[0;32m    869\u001b[0m     \u001b[38;5;66;03m# Check whether the filename is to be opened in binary mode.\u001b[39;00m\n\u001b[0;32m    870\u001b[0m     \u001b[38;5;66;03m# Binary mode does not support 'encoding' and 'newline'.\u001b[39;00m\n\u001b[0;32m    871\u001b[0m     \u001b[38;5;28;01mif\u001b[39;00m ioargs\u001b[38;5;241m.\u001b[39mencoding \u001b[38;5;129;01mand\u001b[39;00m \u001b[38;5;124m\"\u001b[39m\u001b[38;5;124mb\u001b[39m\u001b[38;5;124m\"\u001b[39m \u001b[38;5;129;01mnot\u001b[39;00m \u001b[38;5;129;01min\u001b[39;00m ioargs\u001b[38;5;241m.\u001b[39mmode:\n\u001b[0;32m    872\u001b[0m         \u001b[38;5;66;03m# Encoding\u001b[39;00m\n\u001b[1;32m--> 873\u001b[0m         handle \u001b[38;5;241m=\u001b[39m \u001b[38;5;28mopen\u001b[39m(\n\u001b[0;32m    874\u001b[0m             handle,\n\u001b[0;32m    875\u001b[0m             ioargs\u001b[38;5;241m.\u001b[39mmode,\n\u001b[0;32m    876\u001b[0m             encoding\u001b[38;5;241m=\u001b[39mioargs\u001b[38;5;241m.\u001b[39mencoding,\n\u001b[0;32m    877\u001b[0m             errors\u001b[38;5;241m=\u001b[39merrors,\n\u001b[0;32m    878\u001b[0m             newline\u001b[38;5;241m=\u001b[39m\u001b[38;5;124m\"\u001b[39m\u001b[38;5;124m\"\u001b[39m,\n\u001b[0;32m    879\u001b[0m         )\n\u001b[0;32m    880\u001b[0m     \u001b[38;5;28;01melse\u001b[39;00m:\n\u001b[0;32m    881\u001b[0m         \u001b[38;5;66;03m# Binary mode\u001b[39;00m\n\u001b[0;32m    882\u001b[0m         handle \u001b[38;5;241m=\u001b[39m \u001b[38;5;28mopen\u001b[39m(handle, ioargs\u001b[38;5;241m.\u001b[39mmode)\n",
      "\u001b[1;31mFileNotFoundError\u001b[0m: [Errno 2] No such file or directory: 'Product_Code.csv'"
     ]
    }
   ],
   "source": [
    "filename = \"tbl_PIIRAE810_NEW\"\n",
    "df = rawdata_to_df(filename)\n",
    "# df['CID'] = df['CID'].astype(int)\n",
    "# df['CID'] = df['CID'].astype(str)\n",
    "\n",
    "# Product_Code: Description (Product_Code.csv)\n",
    "df_product_code = pd.read_csv(\"Product_Code.csv\")\n",
    "df_product_code = df_product_code[:294]\n",
    "df_product_code['Product_Code'] = df_product_code['Product_Code'].astype(int) \n",
    "df_product_code.dtypes\n",
    "\n",
    "dict_product_code = {}\n",
    "for code in df_product_code['Product_Code']:\n",
    "    dict_product_code[int(code)] = df_product_code[df_product_code['Product_Code']==code]['Description'].values[0]\n",
    "\n",
    "df['Description'] = df['PRODUCT_CODE'].map(dict_product_code)\n",
    "\n",
    "filename = \"tbl_PIIRA_CECM810\"\n",
    "df = rawdata_to_df(filename)\n",
    "# df['CID'] = df['CID'].astype(int)\n",
    "# df['CID'] = df['CID'].astype(str)\n",
    "\n",
    "# Product_Code: Description (Product_Code.csv)\n",
    "df_product_code = pd.read_csv(\"Product_Code.csv\")\n",
    "df_product_code = df_product_code[:294]\n",
    "df_product_code['Product_Code'] = df_product_code['Product_Code'].astype(int) \n",
    "df_product_code.dtypes\n",
    "\n",
    "dict_product_code = {}\n",
    "for code in df_product_code['Product_Code']:\n",
    "    dict_product_code[int(code)] = df_product_code[df_product_code['Product_Code']==code]['Description'].values[0]\n",
    "\n",
    "df['Description'] = df['PRODUCT_CODE'].map(dict_product_code)\n",
    "\n",
    "df = df[[\"YEAR\", \"MONTH\", \"RID\", \"PRODUCT_CODE\", \"ENTRY_FIELD\", \"VALUE\"]]\n",
    "\n",
    "df.loc[df.ENTRY_FIELD==\"a\", 'ENTRY_FIELD'] = \"A\"\n",
    "df.loc[df.ENTRY_FIELD==\"c\", 'ENTRY_FIELD'] = \"C\"\n",
    "df.loc[df.ENTRY_FIELD==\"d\", 'ENTRY_FIELD'] = \"D\"\n",
    "df.loc[df.ENTRY_FIELD==\"e\", 'ENTRY_FIELD'] = \"E\"\n",
    "df.loc[df.ENTRY_FIELD==\"g\", 'ENTRY_FIELD'] = \"G\"\n",
    "\n",
    "df = df.pivot(index=[\"YEAR\", \"MONTH\", \"RID\", \"PRODUCT_CODE\"], columns='ENTRY_FIELD', values='VALUE')\n",
    "df = df.reset_index()\n",
    "\n",
    "# Product_Code: Description (Product_Code.csv)\n",
    "df_product_code = pd.read_csv(\"Product_Code.csv\")\n",
    "df_product_code = df_product_code[:294]\n",
    "df_product_code['Product_Code'] = df_product_code['Product_Code'].astype(int) \n",
    "\n",
    "dict_product_code = {}\n",
    "for code in df_product_code['Product_Code']:\n",
    "    dict_product_code[int(code)] = df_product_code[df_product_code['Product_Code']==code]['Description'].values[0]\n",
    "\n",
    "df['Labels PRODUCT_CODE'] = df['PRODUCT_CODE'].map(dict_product_code)\n",
    "\n",
    "# df.to_csv(\"CECM810.csv\", index=False)\n",
    "df_to_data(df, \"CECM810.csv\")\n",
    "\n",
    "\n",
    "\n",
    "filename = \"tbl_PIIRA_CECM810\"\n",
    "df = rawdata_to_df(filename)\n",
    "# df['CID'] = df['CID'].astype(int)\n",
    "# df['CID'] = df['CID'].astype(str)\n",
    "\n",
    "# Product_Code: Description (Product_Code.csv)\n",
    "df_product_code = pd.read_csv(\"Product_Code.csv\")\n",
    "df_product_code = df_product_code[:294]\n",
    "df_product_code['Product_Code'] = df_product_code['Product_Code'].astype(int) \n",
    "df_product_code.dtypes\n",
    "\n",
    "dict_product_code = {}\n",
    "for code in df_product_code['Product_Code']:\n",
    "    dict_product_code[int(code)] = df_product_code[df_product_code['Product_Code']==code]['Description'].values[0]\n",
    "\n",
    "df['Description'] = df['PRODUCT_CODE'].map(dict_product_code)\n",
    "\n",
    "df['RID'].unique()\n",
    "\n",
    "dict_rid = {\n",
    "    75005:\t'Marathon Carson Wilmington',\n",
    "    519010:\t'PBF Torrance',\n",
    "    533001:\t'Kern Bakersfield',\n",
    "    749007:\t'PBF Martinez',\n",
    "    810103:\t'Chevron El Segundo',\n",
    "    810104:\t'Chevron Richmond',\n",
    "    816106:\t'Valero Benicia',\n",
    "    897101:\t'Valero Wilmington',\n",
    "    871203:\t'P66 Rodeo',\n",
    "    871205:\t'P66 Wilmington'\n",
    "}\n",
    "\n",
    "def get_df_rid(RID):\n",
    "    y = df[df['RID']==RID].copy()\n",
    "    return y        \n",
    "\n",
    "dict_entry_field = {\n",
    "    'A': 'Opening Inventory',\n",
    "    'B': 'Receipts (Imports)',\n",
    "    'C': 'Inputs',\n",
    "    'D': 'Production',\n",
    "    'E': 'Shipments (Exports)',\n",
    "    'F': 'Fuel Use (Energy)',\n",
    "    'G': 'Closing Inventory'   \n",
    "}\n",
    "\n",
    "# Production\n",
    "# ENTRY_FIELD: D\n",
    "\n",
    "# PRODUCT_CODE:\n",
    "# Reformulated Blendstock for Oxygenate Blending (RBOB): 118\n",
    "# Unfinished Oils, Total: 812\n",
    "# Heavy Gas Oils: 840\n",
    "# Distillate Fuel Oil, Total: 411\n",
    "# Distillate Fuel Oil, 15ppm Sulfur and Under: 465\n",
    "# Renewable Fuels, Total: 202\n",
    "# Other Renewable Diesel Fuel (R100): 205\n",
    "# Conventional Blendstock for Oxygenate Blending (CBOB): 139\n",
    "# Petroleum Coke, Marketable: 21\n",
    "# Still Gas: 45\n",
    "# GTAB All Other Mogas Blending Components: 138\n",
    "# Kerosene and Light Gas Oils: 830\n",
    "# Other Renewable Fuels: 207\n",
    "\n",
    "df_D = df[df['ENTRY_FIELD']=='D'].copy()\n",
    "\n",
    "product_list = [118, 812, 840, 411, 465, 202, 205, 139, 21, 45, 138, 830, 207]\n",
    "\n",
    "df_D = df_D[df_D['PRODUCT_CODE'].isin(product_list)]\n",
    "\n",
    "# Inputs\n",
    "# ENTRY_FIELD: C\n",
    "\n",
    "# Crude Oil (incl. lease condensate), TOTAL\t50\n",
    "# Renewable Fuels, Total\t202\n",
    "# Other Renewable Diesel Fuel (R100)\t205\n",
    "# GTAB All Other Mogas Blending Components\t138\n",
    "# Inputs (Gain) or Production (Loss)\t911\n",
    "# Unfinished Oils, Total\t812\n",
    "# Naphthas and Lighter\t820\n",
    "# Residuum\t850\n",
    "# Distillate Fuel Oil, Total\t411\n",
    "# Distillate Fuel Oil, 15ppm Sulfur and Under\t465\n",
    "# Kerosene and Light Gas Oils\t830\n",
    "# Heavy Gas Oils\t840\n",
    "# Normal Butane/Butylene - Total\t244\n",
    "# Normal Butane -LRG\t643\n",
    "\n",
    "df_C = df[df['ENTRY_FIELD']=='C'].copy()\n",
    "\n",
    "product_list = [55, 202, 205, 138, 911, 812, 820, 850, 411, 465, 830, 840, 244, 643]\n",
    "\n",
    "df_C = df_C[df_C['PRODUCT_CODE'].isin(product_list)]\n",
    "\n",
    "# Energy\n",
    "# ENTRY_FIELD: F\n",
    "\n",
    "# Still Gas\t45\n",
    "# Petroleum Coke, Catalyst\t22\n",
    "\n",
    "df_F = df[df['ENTRY_FIELD']=='F'].copy()\n",
    "\n",
    "product_list = [45, 22]\n",
    "\n",
    "df_F = df_F[df_F['PRODUCT_CODE'].isin(product_list)]\n",
    "\n",
    "df = pd.concat([df_D,df_C,df_F], axis='rows')\n",
    "df['VAR'] = df['ENTRY_FIELD'].astype(str) + df['PRODUCT_CODE'].astype(str)\n",
    "df = df[['YEAR', 'MONTH', 'RID', 'VAR', 'VALUE']]\n",
    "df = df.pivot(index=['YEAR', 'MONTH', 'RID'], columns='VAR', values='VALUE') \n",
    "df = df.reset_index()\n",
    "\n",
    "# df.to_csv(\"E810.csv\", index=False)\n",
    "df_to_data(df, \"E810.csv\")"
   ]
  },
  {
   "cell_type": "code",
   "execution_count": null,
   "id": "68bc5ef1-c9a0-43c4-a25e-d41bee1301e8",
   "metadata": {},
   "outputs": [],
   "source": []
  }
 ],
 "metadata": {
  "kernelspec": {
   "display_name": "Python 3 (ipykernel)",
   "language": "python",
   "name": "python3"
  },
  "language_info": {
   "codemirror_mode": {
    "name": "ipython",
    "version": 3
   },
   "file_extension": ".py",
   "mimetype": "text/x-python",
   "name": "python",
   "nbconvert_exporter": "python",
   "pygments_lexer": "ipython3",
   "version": "3.12.4"
  }
 },
 "nbformat": 4,
 "nbformat_minor": 5
}
